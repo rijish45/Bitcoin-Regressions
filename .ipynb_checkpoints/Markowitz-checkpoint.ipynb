{
 "cells": [
  {
   "cell_type": "code",
   "execution_count": 57,
   "metadata": {},
   "outputs": [
    {
     "name": "stdout",
     "output_type": "stream",
     "text": [
      "[*********************100%***********************]  1 of 1 downloaded\n",
      "[*********************100%***********************]  1 of 1 downloaded\n"
     ]
    }
   ],
   "source": [
    "import pandas as pd\n",
    "import numpy as np\n",
    "import matplotlib.pyplot as plt\n",
    "from pandas_datareader import data as pdr\n",
    "import fix_yahoo_finance as yf\n",
    "\n",
    "yf.pdr_override()\n",
    "df1 = pdr.get_data_yahoo(\"SPY\", start = \"2018-01-01\", end = \"2019-01-01\")\n",
    "df2 = pdr.get_data_yahoo(\"BTC-USD\", start = \"2018-01-01\", end = \"2019-01-01\")\n",
    "\n",
    "# return_SPY = df1.Close.pct_change()[1:]\n",
    "# return_BTC = df2.Close.pct_change()[1:251]\n",
    "# period_returns_SPY = return_SPY.mean()*250\n",
    "# period_returns_BTC = return_BTC.mean()*250\n",
    "\n",
    "\n",
    "# p_returns, p_volatility, p_sharpe_ratio, p_weights = ([] for i in range(4))\n",
    "\n",
    "# daily_cov = np.cov(np.vstack((return_SPY,return_BTC)))\n",
    "# period_cov = daily_cov*250\n",
    "# num_of_assets = 2\n",
    "# number_of_portfolios = 2000\n",
    "# period_returns = np.array([period_returns_SPY, period_returns_BTC])\n",
    "\n",
    "# for portfolio in range(number_of_portfolios):\n",
    "#     weights = np.random.random(num_of_assets)\n",
    "#     weights /= np.sum(weights)\n",
    "#     returns = np.dot(weights, period_returns)*100\n",
    "#     volatility = np.sqrt(np.dot(weights.T, np.dot(period_cov, weights)))*100\n",
    "#     p_sharpe_ratio.append(returns/volatility)\n",
    "#     p_volatility.append(volatility)\n",
    "#     p_weights.append(weights)\n",
    "    \n",
    "\n",
    "    \n",
    "\n",
    "\n",
    "\n"
   ]
  }
 ],
 "metadata": {
  "kernelspec": {
   "display_name": "Python 3",
   "language": "python",
   "name": "python3"
  },
  "language_info": {
   "codemirror_mode": {
    "name": "ipython",
    "version": 3
   },
   "file_extension": ".py",
   "mimetype": "text/x-python",
   "name": "python",
   "nbconvert_exporter": "python",
   "pygments_lexer": "ipython3",
   "version": "3.7.0"
  }
 },
 "nbformat": 4,
 "nbformat_minor": 2
}
